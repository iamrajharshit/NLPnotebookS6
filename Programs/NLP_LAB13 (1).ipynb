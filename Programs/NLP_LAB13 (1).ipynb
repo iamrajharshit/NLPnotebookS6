{
 "cells": [
  {
   "cell_type": "code",
   "execution_count": 2,
   "id": "e3751892-9e1b-475a-8b5f-c32a277175b3",
   "metadata": {},
   "outputs": [
    {
     "data": {
      "text/plain": [
       "'We have often heard that \\x91Cricket is religion in India and Sachin is God\\x92. There is no better statement that can justify the status of Sachin Tendulkar in India. Sachin Tendulkar in India is not just a cricketer, he is God. Also for common people in India, he is an example of hard work and determination. Thus, he is worshipped by everyone in India. The essay on Sachin Tendulkar is a small insight into one of the greatest ever sportsman to have played any game.Sachin Tendulkar was born to a middle-class family and came to limelight with a performance in the school tournament. He held a record partnership at that time with Vinod Kambli playing for their school tournament. That innings changed Sachin\\x92s life completely and he became famous in a fortnight. In those days, the school tournaments had a different fanbase and a good performance can bring you in limelight. Because of that inning, people all over India came to know who Sachin Tendulkar was! Thus, it also caught Indian selector\\x92s eye and Sachin Tendulkar was selected for the tour of Pakistan at an age of 16.'"
      ]
     },
     "execution_count": 2,
     "metadata": {},
     "output_type": "execute_result"
    }
   ],
   "source": [
    "with open('summary.txt', encoding='latin') as f:\n",
    "    text = f.readlines()\n",
    "text = ''.join(text)\n",
    "text"
   ]
  },
  {
   "cell_type": "code",
   "execution_count": 3,
   "id": "0e8594a2-4f69-41bc-9808-cccd5428cb28",
   "metadata": {},
   "outputs": [
    {
     "data": {
      "text/plain": [
       "\"We have often heard that 'Cricket is religion in India and Sachin is God'. There is no better statement that can justify the status of Sachin Tendulkar in India. Sachin Tendulkar in India is not just a cricketer, he is God. Also for common people in India, he is an example of hard work and determination. Thus, he is worshipped by everyone in India. The essay on Sachin Tendulkar is a small insight into one of the greatest ever sportsman to have played any game.Sachin Tendulkar was born to a middle-class family and came to limelight with a performance in the school tournament. He held a record partnership at that time with Vinod Kambli playing for their school tournament. That innings changed Sachin's life completely and he became famous in a fortnight. In those days, the school tournaments had a different fanbase and a good performance can bring you in limelight. Because of that inning, people all over India came to know who Sachin Tendulkar was! Thus, it also caught Indian selector's eye and Sachin Tendulkar was selected for the tour of Pakistan at an age of 16.\""
      ]
     },
     "execution_count": 3,
     "metadata": {},
     "output_type": "execute_result"
    }
   ],
   "source": [
    " text = text.replace(\"\\x91\", \"'\")#Unicode character x91(') and x92(') was replaced with “‘” and kept in variable text.\n",
    "text = text.replace(\"\\x92\", \"'\")\n",
    "text"
   ]
  },
  {
   "cell_type": "code",
   "execution_count": 4,
   "id": "260cfe6e-297b-4165-9963-7f43002e9e3f",
   "metadata": {},
   "outputs": [],
   "source": [
    "import spacy\n",
    "from spacy.lang.en.stop_words import STOP_WORDS\n",
    "from string import punctuation"
   ]
  },
  {
   "cell_type": "code",
   "execution_count": 5,
   "id": "7e563d1c-b80f-4d7a-a299-cf1b4676b22b",
   "metadata": {},
   "outputs": [],
   "source": [
    "nlp = spacy.load('en_core_web_sm')\n",
    "doc = nlp(text)"
   ]
  },
  {
   "cell_type": "code",
   "execution_count": null,
   "id": "9d60907b-75a9-4572-92ca-1fd6a9218987",
   "metadata": {},
   "outputs": [],
   "source": [
    "#Iterate over every single token using list comprehension and these are the tokens to be worked upon.\n",
    "#the words were added to the word_freq dictionary and the number of times they appear in doc has been added as a value in the dictionary"
   ]
  },
  {
   "cell_type": "code",
   "execution_count": 9,
   "id": "7ffcbbe8-8c00-4245-a148-82498eb1ac94",
   "metadata": {},
   "outputs": [
    {
     "data": {
      "text/plain": [
       "{'heard': 1,\n",
       " 'cricket': 1,\n",
       " 'religion': 1,\n",
       " 'india': 6,\n",
       " 'sachin': 8,\n",
       " 'god': 2,\n",
       " 'better': 1,\n",
       " 'statement': 1,\n",
       " 'justify': 1,\n",
       " 'status': 1,\n",
       " 'tendulkar': 6,\n",
       " 'cricketer': 1,\n",
       " 'common': 1,\n",
       " 'people': 2,\n",
       " 'example': 1,\n",
       " 'hard': 1,\n",
       " 'work': 1,\n",
       " 'determination': 1,\n",
       " 'worshipped': 1,\n",
       " 'essay': 1,\n",
       " 'small': 1,\n",
       " 'insight': 1,\n",
       " 'greatest': 1,\n",
       " 'sportsman': 1,\n",
       " 'played': 1,\n",
       " 'game': 1,\n",
       " 'born': 1,\n",
       " 'middle': 1,\n",
       " 'class': 1,\n",
       " 'family': 1,\n",
       " 'came': 2,\n",
       " 'limelight': 2,\n",
       " 'performance': 2,\n",
       " 'school': 3,\n",
       " 'tournament': 2,\n",
       " 'held': 1,\n",
       " 'record': 1,\n",
       " 'partnership': 1,\n",
       " 'time': 1,\n",
       " 'vinod': 1,\n",
       " 'kambli': 1,\n",
       " 'playing': 1,\n",
       " 'innings': 1,\n",
       " 'changed': 1,\n",
       " 'life': 1,\n",
       " 'completely': 1,\n",
       " 'famous': 1,\n",
       " 'fortnight': 1,\n",
       " 'days': 1,\n",
       " 'tournaments': 1,\n",
       " 'different': 1,\n",
       " 'fanbase': 1,\n",
       " 'good': 1,\n",
       " 'bring': 1,\n",
       " 'inning': 1,\n",
       " 'know': 1,\n",
       " 'caught': 1,\n",
       " 'indian': 1,\n",
       " 'selector': 1,\n",
       " 'eye': 1,\n",
       " 'selected': 1,\n",
       " 'tour': 1,\n",
       " 'pakistan': 1,\n",
       " 'age': 1,\n",
       " '16': 1}"
      ]
     },
     "execution_count": 9,
     "metadata": {},
     "output_type": "execute_result"
    }
   ],
   "source": [
    "dct = {}\n",
    "for i in doc:\n",
    "    dct[i.text.lower()] = 0\n",
    "for i in doc:\n",
    "    dct[i.text.lower()] += 1\n",
    "sw = STOP_WORDS\n",
    "dct = {i:v for i,v in dct.items() if i not in sw and i not in punctuation}\n",
    "dct"
   ]
  },
  {
   "cell_type": "code",
   "execution_count": null,
   "id": "88fbf9ee-32d1-42d4-b354-323e99f2f8cf",
   "metadata": {},
   "outputs": [],
   "source": [
    "\n",
    "##The maximum no of times a word appear has been figured out stored in variable max_freq."
   ]
  },
  {
   "cell_type": "code",
   "execution_count": 10,
   "id": "66263977-8707-4e22-992d-b09274aab404",
   "metadata": {},
   "outputs": [
    {
     "name": "stdout",
     "output_type": "stream",
     "text": [
      "Max: 8\n"
     ]
    }
   ],
   "source": [
    "max_freq = sorted(dct.items(), key=lambda x: x[1], reverse=True)[0][1]\n",
    "print('Max:',max_freq)"
   ]
  },
  {
   "cell_type": "markdown",
   "id": "aee545aa-aae2-4690-8f1c-622d655140bb",
   "metadata": {},
   "source": [
    "# Normalization "
   ]
  },
  {
   "cell_type": "code",
   "execution_count": null,
   "id": "bfcb736d-ca75-42c8-b427-2ae068083c9e",
   "metadata": {},
   "outputs": [],
   "source": [
    "#Sentence Tokenization-Normalization\n",
    "#All the score of the words in word_freq dictionary has been normalized by dividing each value in the dictionary by max_freq \n",
    "# and to do this a loop has been run on word_freq dictionary and all the values were normalized."
   ]
  },
  {
   "cell_type": "code",
   "execution_count": 11,
   "id": "739e3919-9e2e-482b-9924-fb36cd56e7d7",
   "metadata": {},
   "outputs": [
    {
     "data": {
      "text/plain": [
       "{'heard': 0.125,\n",
       " 'cricket': 0.125,\n",
       " 'religion': 0.125,\n",
       " 'india': 0.75,\n",
       " 'sachin': 1.0,\n",
       " 'god': 0.25,\n",
       " 'better': 0.125,\n",
       " 'statement': 0.125,\n",
       " 'justify': 0.125,\n",
       " 'status': 0.125,\n",
       " 'tendulkar': 0.75,\n",
       " 'cricketer': 0.125,\n",
       " 'common': 0.125,\n",
       " 'people': 0.25,\n",
       " 'example': 0.125,\n",
       " 'hard': 0.125,\n",
       " 'work': 0.125,\n",
       " 'determination': 0.125,\n",
       " 'worshipped': 0.125,\n",
       " 'essay': 0.125,\n",
       " 'small': 0.125,\n",
       " 'insight': 0.125,\n",
       " 'greatest': 0.125,\n",
       " 'sportsman': 0.125,\n",
       " 'played': 0.125,\n",
       " 'game': 0.125,\n",
       " 'born': 0.125,\n",
       " 'middle': 0.125,\n",
       " 'class': 0.125,\n",
       " 'family': 0.125,\n",
       " 'came': 0.25,\n",
       " 'limelight': 0.25,\n",
       " 'performance': 0.25,\n",
       " 'school': 0.375,\n",
       " 'tournament': 0.25,\n",
       " 'held': 0.125,\n",
       " 'record': 0.125,\n",
       " 'partnership': 0.125,\n",
       " 'time': 0.125,\n",
       " 'vinod': 0.125,\n",
       " 'kambli': 0.125,\n",
       " 'playing': 0.125,\n",
       " 'innings': 0.125,\n",
       " 'changed': 0.125,\n",
       " 'life': 0.125,\n",
       " 'completely': 0.125,\n",
       " 'famous': 0.125,\n",
       " 'fortnight': 0.125,\n",
       " 'days': 0.125,\n",
       " 'tournaments': 0.125,\n",
       " 'different': 0.125,\n",
       " 'fanbase': 0.125,\n",
       " 'good': 0.125,\n",
       " 'bring': 0.125,\n",
       " 'inning': 0.125,\n",
       " 'know': 0.125,\n",
       " 'caught': 0.125,\n",
       " 'indian': 0.125,\n",
       " 'selector': 0.125,\n",
       " 'eye': 0.125,\n",
       " 'selected': 0.125,\n",
       " 'tour': 0.125,\n",
       " 'pakistan': 0.125,\n",
       " 'age': 0.125,\n",
       " '16': 0.125}"
      ]
     },
     "execution_count": 11,
     "metadata": {},
     "output_type": "execute_result"
    }
   ],
   "source": [
    "for i in dct.keys():\n",
    "    dct[i] /= max_freq\n",
    "dct"
   ]
  },
  {
   "cell_type": "markdown",
   "id": "2b5cb6af-79e9-4b89-a34b-fc52dc5ea34c",
   "metadata": {},
   "source": [
    "# Sentence Score"
   ]
  },
  {
   "cell_type": "code",
   "execution_count": 12,
   "id": "463b9a0e-d440-48cf-94c1-efc3f5a67df5",
   "metadata": {},
   "outputs": [
    {
     "data": {
      "text/plain": [
       "[We have often heard that 'Cricket is religion in India and Sachin is God'.,\n",
       " There is no better statement that can justify the status of Sachin Tendulkar in India.,\n",
       " Sachin Tendulkar in India is not just a cricketer, he is God.,\n",
       " Also for common people in India, he is an example of hard work and determination.,\n",
       " Thus, he is worshipped by everyone in India.,\n",
       " The essay on Sachin Tendulkar is a small insight into one of the greatest ever sportsman to have played any game.,\n",
       " Sachin Tendulkar was born to a middle-class family and came to limelight with a performance in the school tournament.,\n",
       " He held a record partnership at that time with Vinod Kambli playing for their school tournament.,\n",
       " That innings changed Sachin's life completely and he became famous in a fortnight.,\n",
       " In those days, the school tournaments had a different fanbase and a good performance can bring you in limelight.,\n",
       " Because of that inning, people all over India came to know who Sachin Tendulkar was!,\n",
       " Thus, it also caught Indian selector's eye and Sachin Tendulkar was selected for the tour of Pakistan at an age of 16.]"
      ]
     },
     "execution_count": 12,
     "metadata": {},
     "output_type": "execute_result"
    }
   ],
   "source": [
    "sent_token = [i for i in doc.sents]\n",
    "sent_token"
   ]
  },
  {
   "cell_type": "code",
   "execution_count": null,
   "id": "b1f86606-e744-4048-acd0-90f413603180",
   "metadata": {},
   "outputs": [],
   "source": [
    "#A score of each individual sentence has been found out based on the word_freq counter.\n",
    "#An empty dictionary sent_score has been created which will hold each sentence as a key and its value as a score. \n",
    "#A loop was iterated on each individual sentence and it was checked the words in those sentences if appear in word_freq dictionary \n",
    "#and then based on the score of a word in word_freq dictionary sent_score has been determined."
   ]
  },
  {
   "cell_type": "code",
   "execution_count": 14,
   "id": "1ce1094b-64f9-4ab9-92af-7814f589f39d",
   "metadata": {},
   "outputs": [
    {
     "data": {
      "text/plain": [
       "{We have often heard that 'Cricket is religion in India and Sachin is God'.: 0.25,\n",
       " There is no better statement that can justify the status of Sachin Tendulkar in India.: 0.5,\n",
       " Sachin Tendulkar in India is not just a cricketer, he is God.: 0.125,\n",
       " Also for common people in India, he is an example of hard work and determination.: 0.875,\n",
       " Thus, he is worshipped by everyone in India.: 0.125,\n",
       " The essay on Sachin Tendulkar is a small insight into one of the greatest ever sportsman to have played any game.: 0.875,\n",
       " Sachin Tendulkar was born to a middle-class family and came to limelight with a performance in the school tournament.: 1.875,\n",
       " He held a record partnership at that time with Vinod Kambli playing for their school tournament.: 1.25,\n",
       " That innings changed Sachin's life completely and he became famous in a fortnight.: 0.75,\n",
       " In those days, the school tournaments had a different fanbase and a good performance can bring you in limelight.: 1.625,\n",
       " Because of that inning, people all over India came to know who Sachin Tendulkar was!: 0.75,\n",
       " Thus, it also caught Indian selector's eye and Sachin Tendulkar was selected for the tour of Pakistan at an age of 16.: 0.875}"
      ]
     },
     "execution_count": 14,
     "metadata": {},
     "output_type": "execute_result"
    }
   ],
   "source": [
    "score = {}\n",
    "for sent in sent_token:\n",
    "    score[sent] = 0\n",
    "for sent in sent_token:\n",
    "    for word in sent:\n",
    "        if word.text in dct.keys():\n",
    "            score[sent] += dct[word.text]\n",
    "score"
   ]
  },
  {
   "cell_type": "code",
   "execution_count": 15,
   "id": "d154bc61-e959-42d6-96a1-4bafd3c67cc6",
   "metadata": {},
   "outputs": [
    {
     "data": {
      "text/plain": [
       "3.5999999999999996"
      ]
     },
     "execution_count": 15,
     "metadata": {},
     "output_type": "execute_result"
    }
   ],
   "source": [
    "from heapq import nlargest\n",
    "len(score)*.3"
   ]
  },
  {
   "cell_type": "code",
   "execution_count": 17,
   "id": "ca0224b8-99bf-4acb-94a4-2273b2b97144",
   "metadata": {},
   "outputs": [
    {
     "name": "stdout",
     "output_type": "stream",
     "text": [
      "Summarized Document : [Sachin Tendulkar was born to a middle-class family and came to limelight with a performance in the school tournament., In those days, the school tournaments had a different fanbase and a good performance can bring you in limelight., He held a record partnership at that time with Vinod Kambli playing for their school tournament., Also for common people in India, he is an example of hard work and determination.]\n"
     ]
    }
   ],
   "source": [
    "summary = nlargest(n=4, iterable=score, key=score.get)\n",
    "print (\"Summarized Document :\",summary)"
   ]
  },
  {
   "cell_type": "code",
   "execution_count": null,
   "id": "7910927b-e633-4b74-a8cb-46182ecae08f",
   "metadata": {},
   "outputs": [],
   "source": []
  }
 ],
 "metadata": {
  "kernelspec": {
   "display_name": "Python 3 (ipykernel)",
   "language": "python",
   "name": "python3"
  },
  "language_info": {
   "codemirror_mode": {
    "name": "ipython",
    "version": 3
   },
   "file_extension": ".py",
   "mimetype": "text/x-python",
   "name": "python",
   "nbconvert_exporter": "python",
   "pygments_lexer": "ipython3",
   "version": "3.11.7"
  }
 },
 "nbformat": 4,
 "nbformat_minor": 5
}
