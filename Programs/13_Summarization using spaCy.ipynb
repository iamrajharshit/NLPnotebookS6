{
 "cells": [
  {
   "cell_type": "code",
   "execution_count": 39,
   "id": "ec3a5b6e",
   "metadata": {},
   "outputs": [
    {
     "data": {
      "text/plain": [
       "'We have often heard that \\x91Cricket is religion in India and Sachin is God\\x92. There is no better statement that can justify the status of Sachin Tendulkar in India. Sachin Tendulkar in India is not just a cricketer, he is God. Also for common people in India, he is an example of hard work and determination. Thus, he is worshipped by everyone in India. The essay on Sachin Tendulkar is a small insight into one of the greatest ever sportsman to have played any game.Sachin Tendulkar was born to a middle-class family and came to limelight with a performance in the school tournament. He held a record partnership at that time with Vinod Kambli playing for their school tournament. That innings changed Sachin\\x92s life completely and he became famous in a fortnight. In those days, the school tournaments had a different fanbase and a good performance can bring you in limelight. Because of that inning, people all over India came to know who Sachin Tendulkar was! Thus, it also caught Indian selector\\x92s eye and Sachin Tendulkar was selected for the tour of Pakistan at an age of 16.'"
      ]
     },
     "execution_count": 39,
     "metadata": {},
     "output_type": "execute_result"
    }
   ],
   "source": [
    "with open('../Resources/summary.txt',encoding='latin') as f:\n",
    "    text=f.readlines()\n",
    "text=\"\".join(text)\n",
    "text"
   ]
  },
  {
   "cell_type": "markdown",
   "id": "a43243e6",
   "metadata": {},
   "source": [
    "trying to replace certain characters. The lines you've provided suggest you're replacing characters like `\\x91` and `\\x92` with apostrophes`'`. "
   ]
  },
  {
   "cell_type": "code",
   "execution_count": 40,
   "id": "9ba83f1c",
   "metadata": {},
   "outputs": [],
   "source": [
    "text=text.replace(\"\\x91\",\"'\")\n",
    "text=text.replace(\"\\x92\",\"'\")"
   ]
  },
  {
   "cell_type": "markdown",
   "id": "df2ae4ee",
   "metadata": {},
   "source": [
    "Importing the Spacy library along with its English language model and stop words, as well as punctuation from the string module. "
   ]
  },
  {
   "cell_type": "code",
   "execution_count": 41,
   "id": "182c2d5d",
   "metadata": {},
   "outputs": [],
   "source": [
    "import spacy\n",
    "from spacy.lang.en.stop_words import STOP_WORDS\n",
    "from string import punctuation"
   ]
  },
  {
   "cell_type": "markdown",
   "id": "3f84c514",
   "metadata": {},
   "source": [
    "Loading the English language model (en_core_web_sm) from spaCy and then processing some text using this model. This will tokenize the text and perform various natural language processing tasks such as part-of-speech tagging, named entity recognition, and dependency parsing."
   ]
  },
  {
   "cell_type": "code",
   "execution_count": 42,
   "id": "b3e70a15",
   "metadata": {},
   "outputs": [],
   "source": [
    "nlp=spacy.load(\"en_core_web_sm\")\n",
    "doc=nlp(text)"
   ]
  },
  {
   "cell_type": "markdown",
   "id": "8e20722a",
   "metadata": {},
   "source": [
    "creating a dictionary (`dtc`) to count the frequency of each word in the document (`doc`), while excluding stop words and punctuation. This is a common preprocessing step in natural language processing tasks.\n",
    "\n"
   ]
  },
  {
   "cell_type": "code",
   "execution_count": 43,
   "id": "cc96e637",
   "metadata": {
    "scrolled": true
   },
   "outputs": [
    {
     "data": {
      "text/plain": [
       "{'heard': 1,\n",
       " 'cricket': 1,\n",
       " 'religion': 1,\n",
       " 'india': 6,\n",
       " 'sachin': 8,\n",
       " 'god': 2,\n",
       " 'better': 1,\n",
       " 'statement': 1,\n",
       " 'justify': 1,\n",
       " 'status': 1,\n",
       " 'tendulkar': 6,\n",
       " 'cricketer': 1,\n",
       " 'common': 1,\n",
       " 'people': 2,\n",
       " 'example': 1,\n",
       " 'hard': 1,\n",
       " 'work': 1,\n",
       " 'determination': 1,\n",
       " 'worshipped': 1,\n",
       " 'essay': 1,\n",
       " 'small': 1,\n",
       " 'insight': 1,\n",
       " 'greatest': 1,\n",
       " 'sportsman': 1,\n",
       " 'played': 1,\n",
       " 'game': 1,\n",
       " 'born': 1,\n",
       " 'middle': 1,\n",
       " 'class': 1,\n",
       " 'family': 1,\n",
       " 'came': 2,\n",
       " 'limelight': 2,\n",
       " 'performance': 2,\n",
       " 'school': 3,\n",
       " 'tournament': 2,\n",
       " 'held': 1,\n",
       " 'record': 1,\n",
       " 'partnership': 1,\n",
       " 'time': 1,\n",
       " 'vinod': 1,\n",
       " 'kambli': 1,\n",
       " 'playing': 1,\n",
       " 'innings': 1,\n",
       " 'changed': 1,\n",
       " 'life': 1,\n",
       " 'completely': 1,\n",
       " 'famous': 1,\n",
       " 'fortnight': 1,\n",
       " 'days': 1,\n",
       " 'tournaments': 1,\n",
       " 'different': 1,\n",
       " 'fanbase': 1,\n",
       " 'good': 1,\n",
       " 'bring': 1,\n",
       " 'inning': 1,\n",
       " 'know': 1,\n",
       " 'caught': 1,\n",
       " 'indian': 1,\n",
       " 'selector': 1,\n",
       " 'eye': 1,\n",
       " 'selected': 1,\n",
       " 'tour': 1,\n",
       " 'pakistan': 1,\n",
       " 'age': 1,\n",
       " '16': 1}"
      ]
     },
     "execution_count": 43,
     "metadata": {},
     "output_type": "execute_result"
    }
   ],
   "source": [
    "dtc={}\n",
    "for i in doc:\n",
    "    dtc[i.text.lower()] = 0\n",
    "for i in doc:\n",
    "    dtc[i.text.lower()]+=1\n",
    "    \n",
    "sw=STOP_WORDS\n",
    "dtc={i:v for i,v in dtc.items() if i not in sw and i not in punctuation}\n",
    "dtc"
   ]
  },
  {
   "cell_type": "markdown",
   "id": "93a38561",
   "metadata": {},
   "source": [
    "Finding the maximum frequency of a word in the document using the dictionary `dtc`. You're sorting the items in `dtc` by their values (frequencies) in descending order and then printing the maximum frequency.\n",
    "\n"
   ]
  },
  {
   "cell_type": "code",
   "execution_count": 44,
   "id": "b5ad2395",
   "metadata": {},
   "outputs": [
    {
     "name": "stdout",
     "output_type": "stream",
     "text": [
      "Max: 8\n"
     ]
    }
   ],
   "source": [
    "max_freq=sorted(dtc.items(),key=lambda x:x[1],reverse=True)[0][1]\n",
    "print(\"Max:\",max_freq)"
   ]
  },
  {
   "cell_type": "markdown",
   "id": "78191aa8",
   "metadata": {},
   "source": [
    "## Normalizing\n",
    "Normalizing the frequencies of words in `dtc` by dividing each frequency by the maximum frequency (`max_freq`). This normalization process scales the frequencies to a range between 0 and 1.\n",
    "\n"
   ]
  },
  {
   "cell_type": "code",
   "execution_count": 45,
   "id": "5a9962fa",
   "metadata": {},
   "outputs": [
    {
     "data": {
      "text/plain": [
       "{'heard': 0.125,\n",
       " 'cricket': 0.125,\n",
       " 'religion': 0.125,\n",
       " 'india': 0.75,\n",
       " 'sachin': 1.0,\n",
       " 'god': 0.25,\n",
       " 'better': 0.125,\n",
       " 'statement': 0.125,\n",
       " 'justify': 0.125,\n",
       " 'status': 0.125,\n",
       " 'tendulkar': 0.75,\n",
       " 'cricketer': 0.125,\n",
       " 'common': 0.125,\n",
       " 'people': 0.25,\n",
       " 'example': 0.125,\n",
       " 'hard': 0.125,\n",
       " 'work': 0.125,\n",
       " 'determination': 0.125,\n",
       " 'worshipped': 0.125,\n",
       " 'essay': 0.125,\n",
       " 'small': 0.125,\n",
       " 'insight': 0.125,\n",
       " 'greatest': 0.125,\n",
       " 'sportsman': 0.125,\n",
       " 'played': 0.125,\n",
       " 'game': 0.125,\n",
       " 'born': 0.125,\n",
       " 'middle': 0.125,\n",
       " 'class': 0.125,\n",
       " 'family': 0.125,\n",
       " 'came': 0.25,\n",
       " 'limelight': 0.25,\n",
       " 'performance': 0.25,\n",
       " 'school': 0.375,\n",
       " 'tournament': 0.25,\n",
       " 'held': 0.125,\n",
       " 'record': 0.125,\n",
       " 'partnership': 0.125,\n",
       " 'time': 0.125,\n",
       " 'vinod': 0.125,\n",
       " 'kambli': 0.125,\n",
       " 'playing': 0.125,\n",
       " 'innings': 0.125,\n",
       " 'changed': 0.125,\n",
       " 'life': 0.125,\n",
       " 'completely': 0.125,\n",
       " 'famous': 0.125,\n",
       " 'fortnight': 0.125,\n",
       " 'days': 0.125,\n",
       " 'tournaments': 0.125,\n",
       " 'different': 0.125,\n",
       " 'fanbase': 0.125,\n",
       " 'good': 0.125,\n",
       " 'bring': 0.125,\n",
       " 'inning': 0.125,\n",
       " 'know': 0.125,\n",
       " 'caught': 0.125,\n",
       " 'indian': 0.125,\n",
       " 'selector': 0.125,\n",
       " 'eye': 0.125,\n",
       " 'selected': 0.125,\n",
       " 'tour': 0.125,\n",
       " 'pakistan': 0.125,\n",
       " 'age': 0.125,\n",
       " '16': 0.125}"
      ]
     },
     "execution_count": 45,
     "metadata": {},
     "output_type": "execute_result"
    }
   ],
   "source": [
    "for i in dtc.keys():\n",
    "    dtc[i]/=max_freq\n",
    "dtc"
   ]
  },
  {
   "cell_type": "markdown",
   "id": "f8024b2d",
   "metadata": {},
   "source": [
    "Tokenizing the document `doc` into sentences using `spaCy`'s built-in sentence segmentation (`doc.sents`). Each item in `sent_token` will represent a sentence from the document.\n",
    "\n"
   ]
  },
  {
   "cell_type": "code",
   "execution_count": 46,
   "id": "7d5da7ea",
   "metadata": {
    "scrolled": true
   },
   "outputs": [
    {
     "data": {
      "text/plain": [
       "[We have often heard that 'Cricket is religion in India and Sachin is God'.,\n",
       " There is no better statement that can justify the status of Sachin Tendulkar in India.,\n",
       " Sachin Tendulkar in India is not just a cricketer, he is God.,\n",
       " Also for common people in India, he is an example of hard work and determination.,\n",
       " Thus, he is worshipped by everyone in India.,\n",
       " The essay on Sachin Tendulkar is a small insight into one of the greatest ever sportsman to have played any game.,\n",
       " Sachin Tendulkar was born to a middle-class family and came to limelight with a performance in the school tournament.,\n",
       " He held a record partnership at that time with Vinod Kambli playing for their school tournament.,\n",
       " That innings changed Sachin's life completely and he became famous in a fortnight.,\n",
       " In those days, the school tournaments had a different fanbase and a good performance can bring you in limelight.,\n",
       " Because of that inning, people all over India came to know who Sachin Tendulkar was!,\n",
       " Thus, it also caught Indian selector's eye and Sachin Tendulkar was selected for the tour of Pakistan at an age of 16.]"
      ]
     },
     "execution_count": 46,
     "metadata": {},
     "output_type": "execute_result"
    }
   ],
   "source": [
    "sent_token=[i for i in doc.sents]\n",
    "sent_token"
   ]
  },
  {
   "cell_type": "markdown",
   "id": "8079f2af",
   "metadata": {},
   "source": [
    "calculating a score for each sentence based on the normalized frequencies of words in each sentence (`dtc`). The score for each sentence is the sum of the normalized frequencies of the words it contains."
   ]
  },
  {
   "cell_type": "code",
   "execution_count": 47,
   "id": "16eac5fc",
   "metadata": {},
   "outputs": [
    {
     "data": {
      "text/plain": [
       "{We have often heard that 'Cricket is religion in India and Sachin is God'.: 0.25,\n",
       " There is no better statement that can justify the status of Sachin Tendulkar in India.: 0.5,\n",
       " Sachin Tendulkar in India is not just a cricketer, he is God.: 0.125,\n",
       " Also for common people in India, he is an example of hard work and determination.: 0.875,\n",
       " Thus, he is worshipped by everyone in India.: 0.125,\n",
       " The essay on Sachin Tendulkar is a small insight into one of the greatest ever sportsman to have played any game.: 0.875,\n",
       " Sachin Tendulkar was born to a middle-class family and came to limelight with a performance in the school tournament.: 1.875,\n",
       " He held a record partnership at that time with Vinod Kambli playing for their school tournament.: 1.25,\n",
       " That innings changed Sachin's life completely and he became famous in a fortnight.: 0.75,\n",
       " In those days, the school tournaments had a different fanbase and a good performance can bring you in limelight.: 1.625,\n",
       " Because of that inning, people all over India came to know who Sachin Tendulkar was!: 0.75,\n",
       " Thus, it also caught Indian selector's eye and Sachin Tendulkar was selected for the tour of Pakistan at an age of 16.: 0.875}"
      ]
     },
     "execution_count": 47,
     "metadata": {},
     "output_type": "execute_result"
    }
   ],
   "source": [
    "score={}\n",
    "for sent in sent_token:\n",
    "    score[sent]=0\n",
    "for sent in sent_token:\n",
    "    for word in sent:\n",
    "        if word.text in dtc.keys():\n",
    "            score[sent]+=dtc[word.text]\n",
    "            \n",
    "score"
   ]
  },
  {
   "cell_type": "markdown",
   "id": "b32c68cd",
   "metadata": {},
   "source": [
    "calculating 30% of the length of the `score` dictionary. This calculation likely represents a threshold for selecting the top sentences based on their scores.\n",
    "\n"
   ]
  },
  {
   "cell_type": "code",
   "execution_count": 51,
   "id": "aabe5ef6",
   "metadata": {
    "scrolled": true
   },
   "outputs": [
    {
     "data": {
      "text/plain": [
       "3.5999999999999996"
      ]
     },
     "execution_count": 51,
     "metadata": {},
     "output_type": "execute_result"
    }
   ],
   "source": [
    "from heapq import nlargest\n",
    "len(score)*.3"
   ]
  },
  {
   "cell_type": "markdown",
   "id": "4bb702cb",
   "metadata": {},
   "source": [
    "Using the `nlargest` function from the `heapq` module to select the top 4 sentences from the score dictionary based on their `scores`. These sentences will form the summarized document."
   ]
  },
  {
   "cell_type": "code",
   "execution_count": 49,
   "id": "83101ebb",
   "metadata": {},
   "outputs": [
    {
     "name": "stdout",
     "output_type": "stream",
     "text": [
      "summarized Doc: [Sachin Tendulkar was born to a middle-class family and came to limelight with a performance in the school tournament., In those days, the school tournaments had a different fanbase and a good performance can bring you in limelight., He held a record partnership at that time with Vinod Kambli playing for their school tournament., Also for common people in India, he is an example of hard work and determination.]\n"
     ]
    }
   ],
   "source": [
    "summary=nlargest(n=4,iterable=score, key=score.get)\n",
    "print(\"summarized Doc:\",summary)"
   ]
  },
  {
   "cell_type": "code",
   "execution_count": null,
   "id": "a909866f",
   "metadata": {},
   "outputs": [],
   "source": []
  }
 ],
 "metadata": {
  "kernelspec": {
   "display_name": "Python 3 (ipykernel)",
   "language": "python",
   "name": "python3"
  },
  "language_info": {
   "codemirror_mode": {
    "name": "ipython",
    "version": 3
   },
   "file_extension": ".py",
   "mimetype": "text/x-python",
   "name": "python",
   "nbconvert_exporter": "python",
   "pygments_lexer": "ipython3",
   "version": "3.9.12"
  }
 },
 "nbformat": 4,
 "nbformat_minor": 5
}
