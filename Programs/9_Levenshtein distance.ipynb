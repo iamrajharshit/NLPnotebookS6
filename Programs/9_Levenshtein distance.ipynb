{
 "cells": [
  {
   "cell_type": "code",
   "execution_count": 7,
   "id": "d17406c0",
   "metadata": {},
   "outputs": [],
   "source": [
    "def minimum_edit_distance(str1,str2,m,n):\n",
    "    string_matrix=[[0 for i in range(n+1)] for j in range(m+1)]\n",
    "    for i in range(m+1):\n",
    "        for j in range(m+1):\n",
    "            if i==0:\n",
    "                string_matrix[i][j]=j\n",
    "            elif j==0:\n",
    "                string_matrix[i][j]=i                \n",
    "            elif str1[i-1] == str2[j-1]:\n",
    "                string_matrix[i][j] = string_matrix[i-1][j-1]\n",
    "            else:\n",
    "                string_matrix[i][j]-1+ min(string_matrix[i-1][j],\n",
    "                                          string_matrix[i][j-1],\n",
    "                                          string_matrix[i-1][j-1]\n",
    "                                          )\n",
    "                \n",
    "                \n",
    "    return string_matrix[m][n]"
   ]
  },
  {
   "cell_type": "code",
   "execution_count": 13,
   "id": "37813515",
   "metadata": {},
   "outputs": [
    {
     "name": "stdout",
     "output_type": "stream",
     "text": [
      "No. of operation required: 1\n",
      "No. of operation required: 4\n"
     ]
    }
   ],
   "source": [
    "def minimum_edit_distance(str1,str2,m,n):\n",
    "    string_matrix=[[0 for i in range(n+1)] for j in range(m+1)]\n",
    "    for i in range(m+1):\n",
    "        for j in range(n+1):\n",
    "            if i==0:\n",
    "                string_matrix[i][j]=j\n",
    "            elif j==0:\n",
    "                string_matrix[i][j]=i                \n",
    "            elif str1[i-1] == str2[j-1]:\n",
    "                string_matrix[i][j] = string_matrix[i-1][j-1]\n",
    "            else:\n",
    "                string_matrix[i][j]=1+ min(string_matrix[i-1][j],\n",
    "                                          string_matrix[i][j-1],\n",
    "                                          string_matrix[i-1][j-1]\n",
    "                                          )\n",
    "                \n",
    "                \n",
    "    return string_matrix[m][n]\n",
    "\n",
    "if __name__ == \"__main__\":\n",
    "    str1=\"rats\"\n",
    "    str2=\"cats\"\n",
    "    \n",
    "    print(\"No. of operation required:\",minimum_edit_distance(str1,str2,len(str1),len(str2)))\n",
    "    \n",
    "    \n",
    "    str3 = \"Satruday\"\n",
    "    str4 = \"Sunday\"\n",
    "    \n",
    "    print(\"No. of operation required:\",minimum_edit_distance(str3,str4,len(str3),len(str4)))"
   ]
  },
  {
   "cell_type": "code",
   "execution_count": null,
   "id": "0f660549",
   "metadata": {},
   "outputs": [],
   "source": []
  }
 ],
 "metadata": {
  "kernelspec": {
   "display_name": "Python 3 (ipykernel)",
   "language": "python",
   "name": "python3"
  },
  "language_info": {
   "codemirror_mode": {
    "name": "ipython",
    "version": 3
   },
   "file_extension": ".py",
   "mimetype": "text/x-python",
   "name": "python",
   "nbconvert_exporter": "python",
   "pygments_lexer": "ipython3",
   "version": "3.9.12"
  }
 },
 "nbformat": 4,
 "nbformat_minor": 5
}
